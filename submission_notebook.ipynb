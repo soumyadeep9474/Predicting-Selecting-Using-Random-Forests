{
 "cells": [
  {
   "cell_type": "markdown",
   "id": "b86573b2",
   "metadata": {},
   "source": [
    "# Notebook for Creating the Submission File"
   ]
  },
  {
   "cell_type": "code",
   "execution_count": 1,
   "id": "d6151cfb",
   "metadata": {},
   "outputs": [],
   "source": [
    "import pandas as pd\n",
    "import numpy as np\n",
    "\n",
    "def analyze_dataframe(df):\n",
    "    null_entries = {}\n",
    "    inf_entries = {}\n",
    "\n",
    "    for col in df.columns:\n",
    "        null_count = df[col].isnull().sum()\n",
    "        if null_count > 0:\n",
    "            null_entries[col] = null_count\n",
    "\n",
    "        inf_count = ((df[col] == np.inf) | (df[col] == -np.inf)).sum()\n",
    "        if inf_count > 0:\n",
    "            inf_entries[col] = inf_count\n",
    "\n",
    "    # Find the most frequent columns for null and inf values\n",
    "    most_frequent_null_column = max(null_entries, key=null_entries.get) if null_entries else None\n",
    "    most_frequent_inf_column = max(inf_entries, key=inf_entries.get) if inf_entries else None\n",
    "\n",
    "    print(100*'-')\n",
    "    print(\"Shape:\", df.shape)\n",
    "    print(\"Null entries:\", null_entries)\n",
    "    print(\"Infinite entries:\", inf_entries)\n",
    "    print(\"Most frequent column with null entries:\", most_frequent_null_column)\n",
    "    print(\"Most frequent column with infinite entries:\", most_frequent_inf_column)\n",
    "    print(100*'-')"
   ]
  },
  {
   "cell_type": "code",
   "execution_count": 2,
   "id": "0f459659",
   "metadata": {},
   "outputs": [],
   "source": [
    "def add_neighboring_wells(df):\n",
    "  pad_child_count = dict()\n",
    "  pad_ids = df[\"pad_id\"].values\n",
    "  for id in pad_ids:\n",
    "      if id in pad_child_count:\n",
    "        pad_child_count[id] += 1\n",
    "      else:\n",
    "        pad_child_count[id] = 1\n",
    "\n",
    "  df[\"num_neighboring_wells\"] = df[\"pad_id\"].map(pad_child_count)\n",
    "  return df\n",
    "\n",
    "def euclid_surface_bh_dist(df):\n",
    "    df['surface_bottom_dist'] = ((df['surface_x'] - df['bh_x'])**2 + (df['surface_y'] - df['bh_y'])**2)**0.5\n",
    "    return df\n",
    "\n",
    "def euclid_toe_dist(df):\n",
    "    df['toe_dist'] = ((df['horizontal_midpoint_x'] - df['horizontal_toe_x'])**2 + (df['horizontal_midpoint_y'] - df['horizontal_toe_y'])**2)**0.5\n",
    "    return df\n",
    "\n",
    "def surface_bottom_angle(df):\n",
    "   df['surface_bottom_angle'] = np.arctan2(df['surface_y'] - df['bh_y'], df['surface_x'] - df['bh_x'])\n",
    "   return df\n",
    "\n",
    "def toe_angle(df):\n",
    "   df['toe_angle'] = np.arctan2(df['horizontal_midpoint_y'] - df['horizontal_toe_y'], df['horizontal_midpoint_x'] - df['horizontal_toe_x'])\n",
    "   return df"
   ]
  },
  {
   "cell_type": "code",
   "execution_count": 3,
   "id": "3b1bcb62",
   "metadata": {},
   "outputs": [
    {
     "name": "stdout",
     "output_type": "stream",
     "text": [
      "----------------------------------------------------------------------------------------------------\n",
      "Shape: (17868, 100)\n",
      "Null entries: {}\n",
      "Infinite entries: {}\n",
      "Most frequent column with null entries: None\n",
      "Most frequent column with infinite entries: None\n",
      "----------------------------------------------------------------------------------------------------\n"
     ]
    }
   ],
   "source": [
    "df = pd.read_csv(\"data_wrangling/datasets/final_unstandardized.csv\")\n",
    "\n",
    "analyze_dataframe(df)"
   ]
  },
  {
   "cell_type": "code",
   "execution_count": 4,
   "id": "aaef5eec",
   "metadata": {},
   "outputs": [
    {
     "name": "stdout",
     "output_type": "stream",
     "text": [
      "----------------------------------------------------------------------------------------------------\n",
      "Shape: (17868, 99)\n",
      "Null entries: {}\n",
      "Infinite entries: {}\n",
      "Most frequent column with null entries: None\n",
      "Most frequent column with infinite entries: None\n",
      "----------------------------------------------------------------------------------------------------\n"
     ]
    }
   ],
   "source": [
    "# Drop the columns that are very empty\n",
    "\n",
    "columns_to_drop = ['Unnamed: 0']\n",
    "\n",
    "df = df.drop(columns=columns_to_drop)\n",
    "\n",
    "analyze_dataframe(df)"
   ]
  },
  {
   "cell_type": "code",
   "execution_count": 5,
   "id": "7e342ecd",
   "metadata": {},
   "outputs": [],
   "source": [
    "import math\n",
    "from sklearn.model_selection import train_test_split\n",
    "from sklearn.metrics import mean_squared_error\n",
    "\n",
    "X = df.drop('OilPeakRate', axis=1)\n",
    "y = df['OilPeakRate']\n",
    "\n",
    "X_train, X_test, y_train, y_test = train_test_split(X, y, test_size=0.2, random_state=42)"
   ]
  },
  {
   "cell_type": "code",
   "execution_count": 6,
   "id": "fbaa0090",
   "metadata": {},
   "outputs": [
    {
     "name": "stdout",
     "output_type": "stream",
     "text": [
      "RMSE 99.27393905619753\n"
     ]
    }
   ],
   "source": [
    "from sklearn.ensemble import RandomForestRegressor\n",
    "\n",
    "rf = RandomForestRegressor(max_depth=40, min_samples_leaf=2, min_samples_split=2, n_estimators=400)\n",
    "rf.fit(X_train, y_train)\n",
    "\n",
    "y_pred = rf.predict(X_test)\n",
    "print('RMSE', math.sqrt(mean_squared_error(y_test, y_pred)))"
   ]
  },
  {
   "cell_type": "code",
   "execution_count": 7,
   "id": "2b3b5095",
   "metadata": {},
   "outputs": [
    {
     "name": "stdout",
     "output_type": "stream",
     "text": [
      "<class 'numpy.ndarray'>\n",
      "[249.69735515 271.07075024 205.30827688 ... 285.68425941 367.21581171\n",
      " 174.99605768]\n"
     ]
    }
   ],
   "source": [
    "print(type(y_pred))\n",
    "print(y_pred)\n",
    "      "
   ]
  },
  {
   "cell_type": "markdown",
   "id": "0cc86b62",
   "metadata": {},
   "source": [
    "# Train on all"
   ]
  },
  {
   "cell_type": "code",
   "execution_count": 8,
   "id": "82227876",
   "metadata": {},
   "outputs": [
    {
     "data": {
      "text/plain": [
       "RandomForestRegressor(max_depth=40, min_samples_leaf=2, n_estimators=400)"
      ]
     },
     "execution_count": 8,
     "metadata": {},
     "output_type": "execute_result"
    }
   ],
   "source": [
    "rf.fit(X, y)"
   ]
  },
  {
   "cell_type": "markdown",
   "id": "bebf998c",
   "metadata": {},
   "source": [
    "# Prepare Submission DF"
   ]
  },
  {
   "cell_type": "code",
   "execution_count": 11,
   "id": "d62bcff2",
   "metadata": {},
   "outputs": [
    {
     "name": "stdout",
     "output_type": "stream",
     "text": [
      "----------------------------------------------------------------------------------------------------\n",
      "Shape: (400, 30)\n",
      "Null entries: {}\n",
      "Infinite entries: {}\n",
      "Most frequent column with null entries: None\n",
      "Most frequent column with infinite entries: None\n",
      "----------------------------------------------------------------------------------------------------\n"
     ]
    }
   ],
   "source": [
    "scoring_df = pd.read_csv(\"data_wrangling/datasets/scoring.csv\")\n",
    "\n",
    "analyze_dataframe(scoring_df)"
   ]
  },
  {
   "cell_type": "code",
   "execution_count": 12,
   "id": "0aed5fe0",
   "metadata": {},
   "outputs": [
    {
     "name": "stdout",
     "output_type": "stream",
     "text": [
      "----------------------------------------------------------------------------------------------------\n",
      "Shape: (400, 24)\n",
      "Null entries: {}\n",
      "Infinite entries: {}\n",
      "Most frequent column with null entries: None\n",
      "Most frequent column with infinite entries: None\n",
      "----------------------------------------------------------------------------------------------------\n"
     ]
    }
   ],
   "source": [
    "# Drop the columns that are very empty\n",
    "\n",
    "columns_to_drop = ['Unnamed: 0', 'ffs_frac_type', 'average_stage_length',\n",
    "       'average_proppant_per_stage', 'average_frac_fluid_per_stage',\n",
    "       'frac_seasoning']\n",
    "\n",
    "scoring_df = scoring_df.drop(columns=columns_to_drop)\n",
    "\n",
    "analyze_dataframe(scoring_df)"
   ]
  },
  {
   "cell_type": "code",
   "execution_count": 13,
   "id": "cf8db024",
   "metadata": {},
   "outputs": [
    {
     "name": "stdout",
     "output_type": "stream",
     "text": [
      "----------------------------------------------------------------------------------------------------\n",
      "Shape: (400, 29)\n",
      "Null entries: {}\n",
      "Infinite entries: {}\n",
      "Most frequent column with null entries: None\n",
      "Most frequent column with infinite entries: None\n",
      "----------------------------------------------------------------------------------------------------\n"
     ]
    }
   ],
   "source": [
    "# Engineer new features based on developed pipeline\n",
    "\n",
    "add_neighboring_wells(scoring_df)\n",
    "euclid_surface_bh_dist(scoring_df)\n",
    "euclid_toe_dist(scoring_df)\n",
    "surface_bottom_angle(scoring_df)\n",
    "toe_angle(scoring_df)\n",
    "\n",
    "analyze_dataframe(scoring_df)"
   ]
  },
  {
   "cell_type": "code",
   "execution_count": 14,
   "id": "0e132240",
   "metadata": {},
   "outputs": [
    {
     "name": "stdout",
     "output_type": "stream",
     "text": [
      "----------------------------------------------------------------------------------------------------\n",
      "Shape: (400, 27)\n",
      "Null entries: {}\n",
      "Infinite entries: {}\n",
      "Most frequent column with null entries: None\n",
      "Most frequent column with infinite entries: None\n",
      "----------------------------------------------------------------------------------------------------\n"
     ]
    }
   ],
   "source": [
    "# Drop features that are not necessary: standardized_operator_name, pad_id\n",
    "\n",
    "uninterpretable_cols = ['standardized_operator_name', 'pad_id']\n",
    "scoring_df = scoring_df.drop(columns=uninterpretable_cols)\n",
    "\n",
    "analyze_dataframe(scoring_df)"
   ]
  },
  {
   "cell_type": "code",
   "execution_count": 15,
   "id": "328f3f2b",
   "metadata": {},
   "outputs": [
    {
     "name": "stdout",
     "output_type": "stream",
     "text": [
      "----------------------------------------------------------------------------------------------------\n",
      "Shape: (400, 64)\n",
      "Null entries: {}\n",
      "Infinite entries: {}\n",
      "Most frequent column with null entries: None\n",
      "Most frequent column with infinite entries: None\n",
      "----------------------------------------------------------------------------------------------------\n"
     ]
    }
   ],
   "source": [
    "# One hot encode and save\n",
    "\n",
    "categorical_cols = ['relative_well_position', 'number_of_stages', 'batch_frac_classification',\n",
    "                    'well_family_relationship', 'frac_type']\n",
    "\n",
    "scoring_df = pd.get_dummies(scoring_df, columns = categorical_cols, dtype=int)\n",
    "\n",
    "analyze_dataframe(scoring_df)"
   ]
  },
  {
   "cell_type": "code",
   "execution_count": 16,
   "id": "42475fef",
   "metadata": {},
   "outputs": [
    {
     "name": "stdout",
     "output_type": "stream",
     "text": [
      "----------------------------------------------------------------------------------------------------\n",
      "Shape: (400, 98)\n",
      "Null entries: {}\n",
      "Infinite entries: {}\n",
      "Most frequent column with null entries: None\n",
      "Most frequent column with infinite entries: None\n",
      "----------------------------------------------------------------------------------------------------\n"
     ]
    }
   ],
   "source": [
    "train_cols = set(X.columns)\n",
    "new_cols = set(scoring_df.columns)\n",
    "\n",
    "missing_cols = train_cols - new_cols\n",
    "\n",
    "for col in missing_cols:\n",
    "    scoring_df[col] = 0\n",
    "\n",
    "extra_cols = new_cols - train_cols\n",
    "\n",
    "scoring_df = scoring_df.drop(columns=extra_cols)\n",
    "\n",
    "analyze_dataframe(scoring_df)\n",
    "\n",
    "scoring_df = scoring_df[X.columns]"
   ]
  },
  {
   "cell_type": "code",
   "execution_count": 20,
   "id": "c2efb308",
   "metadata": {},
   "outputs": [
    {
     "name": "stdout",
     "output_type": "stream",
     "text": [
      "surface_x                                     float64\n",
      "surface_y                                     float64\n",
      "bh_x                                          float64\n",
      "bh_y                                          float64\n",
      "gross_perforated_length                       float64\n",
      "                                               ...   \n",
      "well_family_relationship_Infill Child Well      int64\n",
      "well_family_relationship_Sibling Well           int64\n",
      "well_family_relationship_Standalone Well        int64\n",
      "well_family_relationship_Unknown                int64\n",
      "frac_type_Primary Frac                          int64\n",
      "Length: 98, dtype: object\n"
     ]
    }
   ],
   "source": [
    "print(scoring_df.dtypes)"
   ]
  },
  {
   "cell_type": "markdown",
   "id": "8b95d32f",
   "metadata": {},
   "source": [
    "# Generate Submission File"
   ]
  },
  {
   "cell_type": "code",
   "execution_count": 25,
   "id": "5cadee4a",
   "metadata": {},
   "outputs": [
    {
     "name": "stdout",
     "output_type": "stream",
     "text": [
      "Collecting openpyxl\n",
      "  Downloading openpyxl-3.1.2-py2.py3-none-any.whl (249 kB)\n",
      "\u001b[2K     \u001b[90m━━━━━━━━━━━━━━━━━━━━━━━━━━━━━━━━━━━━━━━\u001b[0m \u001b[32m250.0/250.0 kB\u001b[0m \u001b[31m8.7 MB/s\u001b[0m eta \u001b[36m0:00:00\u001b[0m\n",
      "\u001b[?25hCollecting et-xmlfile (from openpyxl)\n",
      "  Downloading et_xmlfile-1.1.0-py3-none-any.whl (4.7 kB)\n",
      "Installing collected packages: et-xmlfile, openpyxl\n",
      "Successfully installed et-xmlfile-1.1.0 openpyxl-3.1.2\n",
      "[116.89988932 141.48870475 148.44657702 121.48937978  87.65856388\n",
      " 171.79196449  92.41328817 113.92552317 132.30608945 152.19997399\n",
      " 148.36862909 142.5330542   94.28805194 163.68936459 229.26640071\n",
      " 154.34641654 100.9432596   77.4230554  116.68951343 176.17394667\n",
      "  79.67459283 177.89261613 148.86596736 259.52864859 258.71652996\n",
      " 102.41716876 150.6902819  218.01086955 203.5378603  172.44673691\n",
      " 202.57491461 147.08838432 135.08117402 141.3532594   70.00314372\n",
      " 219.93508434  84.48118586 139.05408046 248.22828516 204.57779854\n",
      " 218.01208454 307.98636733 223.5707961  252.64459676 213.86905041\n",
      " 267.36306777 406.48360515 221.59724237 340.65542223 360.85642032\n",
      " 277.64155241 301.69524877 407.06143278 155.49259431 213.88970655\n",
      " 363.72487755 132.80827821 225.95531747 390.13665537 128.85419242\n",
      " 249.97533608 118.40283306 332.67468116 222.37422181 219.9257497\n",
      " 278.72955145 263.48600544 275.56648804 126.30400738 131.61810631\n",
      " 286.54679582 262.98779985 236.03416209  39.17950533 321.19355424\n",
      " 374.8120951  250.10455858 372.45440799 268.52230517 271.99941047\n",
      " 363.10090712 127.08808002 118.56102768 265.45945679 271.09626181\n",
      " 307.19835771 263.63942018 363.78218198 123.20850694 136.47181723\n",
      " 365.80704488 383.13691764 356.70776797 370.61625277 368.74884031\n",
      " 367.97939379 313.98620884 256.8120698  227.70031972 127.93413674\n",
      " 126.98505169 433.86953939 326.13530698 333.96822818 461.2357117\n",
      " 476.81523043 424.02370283 119.76068443 394.99575919 271.38127629\n",
      " 272.35513552 436.92651038 459.10091435 467.54566296 405.91592547\n",
      " 412.48080816 369.68721509 381.83165609 317.56426129 246.89185726\n",
      " 240.5735979  247.55925613 355.44386868 225.48431794 274.55164556\n",
      "  78.63853209 242.44697031 362.59329194 270.44499337 223.71583023\n",
      " 242.68470506 215.39853148 193.30863094 289.50497916 407.91946833\n",
      " 274.79037439 312.1601107  240.17997361 262.23838556 135.49814856\n",
      " 331.04252648 364.69682775 287.17847815 232.82342355 261.48684585\n",
      " 437.84835536 123.92163311 334.59779655 226.43923897 380.25019654\n",
      " 409.82677972 278.59120875 282.50780481 283.55976037 281.03897795\n",
      " 403.14039316 402.94876112 410.09280609 435.90190877 241.67566718\n",
      " 208.265215   242.45428595 212.65220987  39.75501796  58.6819495\n",
      "  68.98772224 136.73598347  61.91040509  63.46619276  67.98482285\n",
      "  66.47974807  65.64930234  67.12878941  66.4069606   60.54655429\n",
      "  51.14657367  47.77047045  47.56914426  68.76905102  68.86993405\n",
      "  45.64242331  59.64864129  66.69629816  49.82824958  46.64138162\n",
      "  64.17358716  42.62028359  59.37537036  58.82059749  73.24622759\n",
      "  68.66919365  56.03408204  75.83023442  84.45366347  48.99169434\n",
      "  65.36553311  56.18629936  54.03348239  51.82805447  60.40095168\n",
      "  55.2289526   44.08351413  73.49767626  51.54237542  53.15253436\n",
      "  60.48200925  47.30540956  61.95470846  57.53639051  65.08378038\n",
      "  56.50316082  47.10985327  64.71821654  90.3520648   59.34943656\n",
      "  59.17091533  51.03099192  47.75792037  61.43552515  47.01045029\n",
      "  66.64713153  48.62476021  49.17927268  80.41391443  88.67345846\n",
      "  56.79886085  81.75698789  55.06745299  56.14540055  59.12427169\n",
      "  53.51162418  60.05718853 143.3102078   48.45890217  73.09061446\n",
      "  35.96871584  55.95877356  63.59242995  70.89431788  58.59934998\n",
      "  94.42728865  52.46821533  50.00490065  58.23087414  81.44657297\n",
      "  51.7197495   58.78249684  91.95171287  54.18056824  53.61036858\n",
      "  54.70596839  63.74584752  60.06637648  46.55663772  92.18094417\n",
      "  53.35776015  56.03699013  61.08947432  68.47024221  41.95768417\n",
      "  60.90092514  62.08684502  44.63784337  63.65550978  55.64526512\n",
      "  52.60771881  56.24336907  71.4343453   67.79434289  65.0134983\n",
      "  65.20543685  58.78216969  53.05829034  63.09492292  89.90052737\n",
      "  53.38286319  62.3550534   59.54367246  72.59136014  55.60920834\n",
      "  58.63054009  62.11061853  45.97866887  46.31866392  43.89800578\n",
      "  69.61302159  60.66045527  74.22852758  51.02229053  56.93161461\n",
      "  59.86296734  51.13784897  52.49046624  57.76656015  54.63016345\n",
      "  51.76774048  57.42360743  61.28442472  49.09064958  55.52030597\n",
      "  56.75231986  75.39528661  60.97722873  43.98746898  56.40372731\n",
      "  51.66570837  54.17481681  59.62159139  51.91028895  53.599647\n",
      "  68.79161082  59.4713097   60.28297062  64.87224331  51.90082612\n",
      "  62.1043346   66.93548202  45.61971955  62.64954778  68.57051209\n",
      "  53.84791987  60.16237351  52.12615089  87.530541    56.09593074\n",
      "  51.88568504  77.69955301  55.65235863  67.72702483  96.65309155\n",
      "  58.22831719  49.53069358  62.69362423  59.5220271  100.65831065\n",
      "  91.57003752  60.74048112  60.47806666  66.81037643  83.36982338\n",
      "  79.41196396  70.10185985  54.43394738  54.94294516  56.14935191\n",
      "  59.32397137  46.38212579  61.71715882  56.39795697  51.42104366\n",
      "  52.37452585  52.05676651  50.93021845  56.50099718  58.79424128\n",
      "  53.72632023  93.29684678  66.49184677  53.49403248  64.49004721\n",
      "  54.24840672  84.50456721  60.03993652  47.08682796  51.03867553\n",
      "  52.85579219  57.26762559  66.72705254  67.46928034  52.34208989\n",
      "  66.92389205  68.20408965  38.23617866  91.44729919  56.02968825\n",
      "  61.92596584  48.80362438  61.16763268  59.2919679   59.89047497\n",
      "  58.8084701   46.71544855  51.71571132  68.14669385  64.48245649\n",
      "  58.79040249  59.45615109  51.90882875  54.08319936  52.57874306\n",
      "  57.47858906  59.58722773  49.11648324  58.03739518  65.39621979\n",
      "  49.32988976  53.30817109  48.54125957  51.40235916  54.81600972]\n"
     ]
    }
   ],
   "source": [
    "!pip install openpyxl\n",
    "\n",
    "y_pred = rf.predict(scoring_df)\n",
    "print(y_pred)\n",
    "submission = pd.DataFrame(y_pred, columns=['OilPeakRate'])\n",
    "\n",
    "submission.to_excel(\"submission_file.xlsx\", index=False)"
   ]
  },
  {
   "cell_type": "code",
   "execution_count": null,
   "id": "80be93de",
   "metadata": {},
   "outputs": [],
   "source": []
  }
 ],
 "metadata": {
  "kernelspec": {
   "display_name": "Python 3 (ipykernel)",
   "language": "python",
   "name": "python3"
  },
  "language_info": {
   "codemirror_mode": {
    "name": "ipython",
    "version": 3
   },
   "file_extension": ".py",
   "mimetype": "text/x-python",
   "name": "python",
   "nbconvert_exporter": "python",
   "pygments_lexer": "ipython3",
   "version": "3.10.13"
  }
 },
 "nbformat": 4,
 "nbformat_minor": 5
}
