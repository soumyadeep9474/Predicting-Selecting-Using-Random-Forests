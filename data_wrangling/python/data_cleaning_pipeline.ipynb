{
 "cells": [
  {
   "cell_type": "markdown",
   "metadata": {
    "id": "OMHhHDDeuNMP"
   },
   "source": [
    "# Helper Methods\n",
    "\n",
    "First, a method to check for emptiness among dataframes.\n",
    "\n",
    "Then, feature engineering methods."
   ]
  },
  {
   "cell_type": "code",
   "execution_count": 25,
   "metadata": {
    "id": "RfPuyj_PuC8V"
   },
   "outputs": [],
   "source": [
    "import pandas as pd\n",
    "import numpy as np\n",
    "\n",
    "def analyze_dataframe(df):\n",
    "    null_entries = {}\n",
    "    inf_entries = {}\n",
    "\n",
    "    for col in df.columns:\n",
    "        null_count = df[col].isnull().sum()\n",
    "        if null_count > 0:\n",
    "            null_entries[col] = null_count\n",
    "\n",
    "        inf_count = ((df[col] == np.inf) | (df[col] == -np.inf)).sum()\n",
    "        if inf_count > 0:\n",
    "            inf_entries[col] = inf_count\n",
    "\n",
    "    # Find the most frequent columns for null and inf values\n",
    "    most_frequent_null_column = max(null_entries, key=null_entries.get) if null_entries else None\n",
    "    most_frequent_inf_column = max(inf_entries, key=inf_entries.get) if inf_entries else None\n",
    "\n",
    "    print(100*'-')\n",
    "    print(\"Shape:\", df.shape)\n",
    "    print(\"Null entries:\", null_entries)\n",
    "    print(\"Infinite entries:\", inf_entries)\n",
    "    print(\"Most frequent column with null entries:\", most_frequent_null_column)\n",
    "    print(\"Most frequent column with infinite entries:\", most_frequent_inf_column)\n",
    "    print(100*'-')"
   ]
  },
  {
   "cell_type": "code",
   "execution_count": 26,
   "metadata": {
    "id": "FhS8XdXVuYpE"
   },
   "outputs": [],
   "source": [
    "def add_neighboring_wells(df):\n",
    "  pad_child_count = dict()\n",
    "  pad_ids = df[\"pad_id\"].values\n",
    "  for id in pad_ids:\n",
    "      if id in pad_child_count:\n",
    "        pad_child_count[id] += 1\n",
    "      else:\n",
    "        pad_child_count[id] = 1\n",
    "\n",
    "  df[\"num_neighboring_wells\"] = df[\"pad_id\"].map(pad_child_count)\n",
    "  return df\n",
    "\n",
    "def euclid_surface_bh_dist(df):\n",
    "    df['surface_bottom_dist'] = ((df['surface_x'] - df['bh_x'])**2 + (df['surface_y'] - df['bh_y'])**2)**0.5\n",
    "    return df\n",
    "\n",
    "def euclid_toe_dist(df):\n",
    "    df['toe_dist'] = ((df['horizontal_midpoint_x'] - df['horizontal_toe_x'])**2 + (df['horizontal_midpoint_y'] - df['horizontal_toe_y'])**2)**0.5\n",
    "    return df\n",
    "\n",
    "def surface_bottom_angle(df):\n",
    "   df['surface_bottom_angle'] = np.arctan2(df['surface_y'] - df['bh_y'], df['surface_x'] - df['bh_x'])\n",
    "   return df\n",
    "\n",
    "def toe_angle(df):\n",
    "   df['toe_angle'] = np.arctan2(df['horizontal_midpoint_y'] - df['horizontal_toe_y'], df['horizontal_midpoint_x'] - df['horizontal_toe_x'])\n",
    "   return df"
   ]
  },
  {
   "cell_type": "markdown",
   "metadata": {
    "id": "xADBQ6HLufAV"
   },
   "source": [
    "# Data Cleaning Pipeline:\n",
    "\n",
    "Drop the 4 columns that are very empty – the 4 ratios\n",
    "\n",
    "Deal with np.inf entries\n",
    "\n",
    "Populate null categorical thingies with ‘Unknown’\n",
    "\n",
    "Impute null continuous thingies with average\n",
    "\n",
    "Engineer new features based on developed pipeline\n",
    "\n",
    "Drop features that are not necessary: standardized_operator_name, pad_id\n",
    "\n",
    "Now, everything should be full except the ‘PeakOilRate’. Since there’s nothing to be concluded with a missing PeakOilRate, we remove those entries\n",
    "\n",
    "Finally, one hot encode\n",
    "\n",
    "Final number of entries should be about 19k"
   ]
  },
  {
   "cell_type": "code",
   "execution_count": 27,
   "metadata": {
    "id": "OO1fyGMIuiT2"
   },
   "outputs": [
    {
     "name": "stdout",
     "output_type": "stream",
     "text": [
      "----------------------------------------------------------------------------------------------------\n",
      "Shape: (29692, 31)\n",
      "Null entries: {'bh_x': 2087, 'bh_y': 2087, 'gross_perforated_length': 7557, 'number_of_stages': 26940, 'total_proppant': 10612, 'total_fluid': 10616, 'true_vertical_depth': 1495, 'ffs_frac_type': 15107, 'proppant_intensity': 10721, 'frac_fluid_intensity': 10746, 'average_stage_length': 26968, 'average_proppant_per_stage': 27003, 'average_frac_fluid_per_stage': 27005, 'proppant_to_frac_fluid_ratio': 11036, 'frac_fluid_to_proppant_ratio': 11036, 'bin_lateral_length': 7557, 'relative_well_position': 9225, 'batch_frac_classification': 9225, 'well_family_relationship': 9225, 'frac_seasoning': 14924, 'horizontal_midpoint_x': 1001, 'horizontal_midpoint_y': 1001, 'horizontal_toe_x': 711, 'horizontal_toe_y': 711, 'OilPeakRate': 10386}\n",
      "Infinite entries: {'frac_fluid_to_proppant_ratio': 1}\n",
      "Most frequent column with null entries: average_frac_fluid_per_stage\n",
      "Most frequent column with infinite entries: frac_fluid_to_proppant_ratio\n",
      "----------------------------------------------------------------------------------------------------\n"
     ]
    }
   ],
   "source": [
    "df = pd.read_csv(\"training.csv\")\n",
    "\n",
    "analyze_dataframe(df)"
   ]
  },
  {
   "cell_type": "code",
   "execution_count": 28,
   "metadata": {
    "id": "wA6rvfguujMP"
   },
   "outputs": [
    {
     "name": "stdout",
     "output_type": "stream",
     "text": [
      "----------------------------------------------------------------------------------------------------\n",
      "Shape: (29692, 25)\n",
      "Null entries: {'bh_x': 2087, 'bh_y': 2087, 'gross_perforated_length': 7557, 'number_of_stages': 26940, 'total_proppant': 10612, 'total_fluid': 10616, 'true_vertical_depth': 1495, 'proppant_intensity': 10721, 'frac_fluid_intensity': 10746, 'proppant_to_frac_fluid_ratio': 11036, 'frac_fluid_to_proppant_ratio': 11036, 'bin_lateral_length': 7557, 'relative_well_position': 9225, 'batch_frac_classification': 9225, 'well_family_relationship': 9225, 'horizontal_midpoint_x': 1001, 'horizontal_midpoint_y': 1001, 'horizontal_toe_x': 711, 'horizontal_toe_y': 711, 'OilPeakRate': 10386}\n",
      "Infinite entries: {'frac_fluid_to_proppant_ratio': 1}\n",
      "Most frequent column with null entries: number_of_stages\n",
      "Most frequent column with infinite entries: frac_fluid_to_proppant_ratio\n",
      "----------------------------------------------------------------------------------------------------\n"
     ]
    }
   ],
   "source": [
    "# Drop the columns that are very empty\n",
    "\n",
    "columns_to_drop = ['Unnamed: 0', 'ffs_frac_type', 'average_stage_length',\n",
    "       'average_proppant_per_stage', 'average_frac_fluid_per_stage',\n",
    "       'frac_seasoning']\n",
    "\n",
    "df = df.drop(columns=columns_to_drop)\n",
    "\n",
    "analyze_dataframe(df)"
   ]
  },
  {
   "cell_type": "code",
   "execution_count": 29,
   "metadata": {
    "id": "iuXeeW1iumPA"
   },
   "outputs": [
    {
     "name": "stdout",
     "output_type": "stream",
     "text": [
      "----------------------------------------------------------------------------------------------------\n",
      "Shape: (29692, 25)\n",
      "Null entries: {'bh_x': 2087, 'bh_y': 2087, 'gross_perforated_length': 7557, 'number_of_stages': 26940, 'total_proppant': 10612, 'total_fluid': 10616, 'true_vertical_depth': 1495, 'proppant_intensity': 10721, 'frac_fluid_intensity': 10746, 'proppant_to_frac_fluid_ratio': 11036, 'frac_fluid_to_proppant_ratio': 11036, 'bin_lateral_length': 7557, 'relative_well_position': 9225, 'batch_frac_classification': 9225, 'well_family_relationship': 9225, 'horizontal_midpoint_x': 1001, 'horizontal_midpoint_y': 1001, 'horizontal_toe_x': 711, 'horizontal_toe_y': 711, 'OilPeakRate': 10386}\n",
      "Infinite entries: {}\n",
      "Most frequent column with null entries: number_of_stages\n",
      "Most frequent column with infinite entries: None\n",
      "----------------------------------------------------------------------------------------------------\n"
     ]
    }
   ],
   "source": [
    "# Deal with np.inf entries\n",
    "\n",
    "max_finite_value = df[df['frac_fluid_to_proppant_ratio'] != np.inf]['frac_fluid_to_proppant_ratio'].max()\n",
    "df['frac_fluid_to_proppant_ratio'] = df['frac_fluid_to_proppant_ratio'].replace([np.inf], max_finite_value)\n",
    "\n",
    "analyze_dataframe(df)"
   ]
  },
  {
   "cell_type": "code",
   "execution_count": 30,
   "metadata": {
    "id": "Qoup6Ckvungp"
   },
   "outputs": [
    {
     "name": "stdout",
     "output_type": "stream",
     "text": [
      "----------------------------------------------------------------------------------------------------\n",
      "Shape: (29692, 25)\n",
      "Null entries: {'bh_x': 2087, 'bh_y': 2087, 'gross_perforated_length': 7557, 'total_proppant': 10612, 'total_fluid': 10616, 'true_vertical_depth': 1495, 'proppant_intensity': 10721, 'frac_fluid_intensity': 10746, 'proppant_to_frac_fluid_ratio': 11036, 'frac_fluid_to_proppant_ratio': 11036, 'bin_lateral_length': 7557, 'horizontal_midpoint_x': 1001, 'horizontal_midpoint_y': 1001, 'horizontal_toe_x': 711, 'horizontal_toe_y': 711, 'OilPeakRate': 10386}\n",
      "Infinite entries: {}\n",
      "Most frequent column with null entries: proppant_to_frac_fluid_ratio\n",
      "Most frequent column with infinite entries: None\n",
      "----------------------------------------------------------------------------------------------------\n"
     ]
    }
   ],
   "source": [
    "# Populate null categorical columns w/ unknown\n",
    "categorical_cols = ['standardized_operator_name', 'relative_well_position', 'number_of_stages',\n",
    "                    'batch_frac_classification', 'well_family_relationship', 'frac_type', 'pad_id']\n",
    "\n",
    "cols_to_fill_with_minus1 = ['standardized_operator_name', 'pad_id', 'number_of_stages']\n",
    "\n",
    "cols_to_fill_with_unknown = [col for col in categorical_cols if col not in cols_to_fill_with_minus1]\n",
    "\n",
    "df[cols_to_fill_with_minus1] = df[cols_to_fill_with_minus1].fillna(-1)\n",
    "\n",
    "df[cols_to_fill_with_unknown] = df[cols_to_fill_with_unknown].fillna('Unknown')\n",
    "\n",
    "analyze_dataframe(df)"
   ]
  },
  {
   "cell_type": "code",
   "execution_count": 31,
   "metadata": {
    "id": "7541qMdYuo6B"
   },
   "outputs": [
    {
     "name": "stdout",
     "output_type": "stream",
     "text": [
      "['gross_perforated_length', 'total_proppant', 'total_fluid', 'true_vertical_depth', 'proppant_intensity', 'frac_fluid_intensity', 'proppant_to_frac_fluid_ratio', 'frac_fluid_to_proppant_ratio', 'bin_lateral_length']\n",
      "----------------------------------------------------------------------------------------------------\n",
      "Shape: (29692, 25)\n",
      "Null entries: {'bh_x': 2087, 'bh_y': 2087, 'horizontal_midpoint_x': 1001, 'horizontal_midpoint_y': 1001, 'horizontal_toe_x': 711, 'horizontal_toe_y': 711, 'OilPeakRate': 10386}\n",
      "Infinite entries: {}\n",
      "Most frequent column with null entries: OilPeakRate\n",
      "Most frequent column with infinite entries: None\n",
      "----------------------------------------------------------------------------------------------------\n"
     ]
    }
   ],
   "source": [
    "# Impute null continuous features with average.\n",
    "\n",
    "continuous_cols = [col for col in df.columns if col not in categorical_cols]\n",
    "\n",
    "for col_name in ['OilPeakRate', 'surface_x', 'surface_y', 'bh_x', 'bh_y', 'horizontal_midpoint_x', 'horizontal_midpoint_y', 'horizontal_toe_x', 'horizontal_toe_y']:\n",
    "    continuous_cols.remove(col_name)\n",
    "\n",
    "print(continuous_cols)\n",
    "\n",
    "df[continuous_cols] = df[continuous_cols].fillna(df[continuous_cols].median())\n",
    "\n",
    "analyze_dataframe(df)"
   ]
  },
  {
   "cell_type": "code",
   "execution_count": 32,
   "metadata": {},
   "outputs": [],
   "source": [
    "continuous_cols = [col for col in df.columns if col not in categorical_cols]\n",
    "continuous_cols.remove('OilPeakRate')\n",
    "\n",
    "def min_max_scaling(df):\n",
    "    return (df - df.min()) / (df.max() - df.min())\n",
    "\n",
    "df[continuous_cols] = min_max_scaling(df[continuous_cols].copy())"
   ]
  },
  {
   "cell_type": "code",
   "execution_count": 33,
   "metadata": {
    "id": "Oc59Xl-uuriH"
   },
   "outputs": [
    {
     "name": "stdout",
     "output_type": "stream",
     "text": [
      "----------------------------------------------------------------------------------------------------\n",
      "Shape: (29692, 30)\n",
      "Null entries: {'bh_x': 2087, 'bh_y': 2087, 'horizontal_midpoint_x': 1001, 'horizontal_midpoint_y': 1001, 'horizontal_toe_x': 711, 'horizontal_toe_y': 711, 'OilPeakRate': 10386, 'surface_bottom_dist': 2087, 'toe_dist': 1001, 'surface_bottom_angle': 2087, 'toe_angle': 1001}\n",
      "Infinite entries: {}\n",
      "Most frequent column with null entries: OilPeakRate\n",
      "Most frequent column with infinite entries: None\n",
      "----------------------------------------------------------------------------------------------------\n"
     ]
    }
   ],
   "source": [
    "# Engineer new features based on developed pipeline\n",
    "\n",
    "add_neighboring_wells(df)\n",
    "euclid_surface_bh_dist(df)\n",
    "euclid_toe_dist(df)\n",
    "surface_bottom_angle(df)\n",
    "toe_angle(df)\n",
    "\n",
    "analyze_dataframe(df)"
   ]
  },
  {
   "cell_type": "code",
   "execution_count": 34,
   "metadata": {
    "id": "HHjT1OsCusCw"
   },
   "outputs": [
    {
     "name": "stdout",
     "output_type": "stream",
     "text": [
      "----------------------------------------------------------------------------------------------------\n",
      "Shape: (29692, 28)\n",
      "Null entries: {'bh_x': 2087, 'bh_y': 2087, 'horizontal_midpoint_x': 1001, 'horizontal_midpoint_y': 1001, 'horizontal_toe_x': 711, 'horizontal_toe_y': 711, 'OilPeakRate': 10386, 'surface_bottom_dist': 2087, 'toe_dist': 1001, 'surface_bottom_angle': 2087, 'toe_angle': 1001}\n",
      "Infinite entries: {}\n",
      "Most frequent column with null entries: OilPeakRate\n",
      "Most frequent column with infinite entries: None\n",
      "----------------------------------------------------------------------------------------------------\n"
     ]
    }
   ],
   "source": [
    "# Drop features that are not necessary: standardized_operator_name, pad_id\n",
    "\n",
    "uninterpretable_cols = ['standardized_operator_name', 'pad_id']\n",
    "df = df.drop(columns=uninterpretable_cols)\n",
    "\n",
    "analyze_dataframe(df)"
   ]
  },
  {
   "cell_type": "code",
   "execution_count": 35,
   "metadata": {
    "id": "blIfRYVTuuo8"
   },
   "outputs": [
    {
     "name": "stdout",
     "output_type": "stream",
     "text": [
      "----------------------------------------------------------------------------------------------------\n",
      "Shape: (17868, 28)\n",
      "Null entries: {}\n",
      "Infinite entries: {}\n",
      "Most frequent column with null entries: None\n",
      "Most frequent column with infinite entries: None\n",
      "----------------------------------------------------------------------------------------------------\n"
     ]
    }
   ],
   "source": [
    "# Remove entries with 0 OilPeakRate\n",
    "\n",
    "df = df.dropna()\n",
    "\n",
    "analyze_dataframe(df)"
   ]
  },
  {
   "cell_type": "code",
   "execution_count": 36,
   "metadata": {
    "id": "YAxstZ20uv-N"
   },
   "outputs": [
    {
     "name": "stdout",
     "output_type": "stream",
     "text": [
      "----------------------------------------------------------------------------------------------------\n",
      "Shape: (17868, 99)\n",
      "Null entries: {}\n",
      "Infinite entries: {}\n",
      "Most frequent column with null entries: None\n",
      "Most frequent column with infinite entries: None\n",
      "----------------------------------------------------------------------------------------------------\n"
     ]
    }
   ],
   "source": [
    "# One hot encode and save\n",
    "\n",
    "categorical_cols = ['relative_well_position', 'number_of_stages', 'batch_frac_classification',\n",
    "                    'well_family_relationship', 'frac_type']\n",
    "\n",
    "df = pd.get_dummies(df, columns = categorical_cols, dtype=int)\n",
    "# for col_name in categorical_cols:\n",
    "#     df[col_name] = df[col_name].astype(int)\n",
    "\n",
    "# categorical_cols = ['relative_well_position', 'number_of_stages', 'batch_frac_classification',\n",
    "#                     'well_family_relationship', 'frac_type']\n",
    "# df = df.drop(categorical_cols, axis=1)  # axis=1 indicates columns\n",
    "\n",
    "analyze_dataframe(df)\n",
    "\n",
    "df.to_csv(\"clean_data/final_product.csv\", index=True)"
   ]
  },
  {
   "cell_type": "code",
   "execution_count": null,
   "metadata": {},
   "outputs": [],
   "source": []
  }
 ],
 "metadata": {
  "colab": {
   "provenance": []
  },
  "kernelspec": {
   "display_name": "Python 3 (ipykernel)",
   "language": "python",
   "name": "python3"
  },
  "language_info": {
   "codemirror_mode": {
    "name": "ipython",
    "version": 3
   },
   "file_extension": ".py",
   "mimetype": "text/x-python",
   "name": "python",
   "nbconvert_exporter": "python",
   "pygments_lexer": "ipython3",
   "version": "3.10.13"
  }
 },
 "nbformat": 4,
 "nbformat_minor": 1
}
