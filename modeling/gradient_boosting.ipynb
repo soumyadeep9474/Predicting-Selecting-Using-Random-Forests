{
 "cells": [
  {
   "cell_type": "code",
   "execution_count": 122,
   "id": "8d73df03",
   "metadata": {},
   "outputs": [],
   "source": [
    "import pandas as pd\n",
    "from sklearn.model_selection import train_test_split\n",
    "from sklearn.ensemble import GradientBoostingRegressor\n",
    "from sklearn.metrics import mean_squared_error\n",
    "import matplotlib.pyplot as plt\n",
    "import numpy as np"
   ]
  },
  {
   "cell_type": "code",
   "execution_count": 123,
   "id": "6ff112c2",
   "metadata": {},
   "outputs": [],
   "source": [
    "import math"
   ]
  },
  {
   "cell_type": "code",
   "execution_count": 124,
   "id": "1115cc6c",
   "metadata": {},
   "outputs": [],
   "source": [
    "df = pd.read_csv(\"./clean_data/final_product.csv\")"
   ]
  },
  {
   "cell_type": "code",
   "execution_count": 125,
   "id": "d75187c0",
   "metadata": {},
   "outputs": [
    {
     "data": {
      "text/plain": [
       "<bound method NDFrame.head of        Unnamed: 0  surface_x  surface_y      bh_x      bh_y  \\\n",
       "0               0   0.710933   0.168809  0.710479  0.164882   \n",
       "1               1   0.708292   0.164697  0.707876  0.161154   \n",
       "2               2   0.707933   0.169201  0.707488  0.165418   \n",
       "3               3   0.710995   0.160689  0.710510  0.156753   \n",
       "4               4   0.707133   0.157638  0.707797  0.160656   \n",
       "...           ...        ...        ...       ...       ...   \n",
       "17863       29432   0.345500   0.427229  0.343490  0.428163   \n",
       "17864       29433   0.355257   0.409044  0.360382  0.406976   \n",
       "17865       29434   0.361604   0.427458  0.366351  0.425707   \n",
       "17866       29435   0.344285   0.409503  0.350981  0.406728   \n",
       "17867       29436   0.344655   0.410183  0.351347  0.407392   \n",
       "\n",
       "       gross_perforated_length  total_proppant  total_fluid  \\\n",
       "0                     0.251750        0.000834     0.103560   \n",
       "1                     0.201925        0.001241     0.016300   \n",
       "2                     0.241998        0.003146     0.047102   \n",
       "3                     0.236497        0.001173     0.012715   \n",
       "4                     0.242061        0.001238     0.018097   \n",
       "...                        ...             ...          ...   \n",
       "17863                 0.260503        0.001052     0.015976   \n",
       "17864                 0.286634        0.007700     0.103560   \n",
       "17865                 0.232496        0.000965     0.018052   \n",
       "17866                 0.376657        0.004214     0.056835   \n",
       "17867                 0.390098        0.004463     0.056449   \n",
       "\n",
       "       true_vertical_depth  proppant_intensity  ...  number_of_stages_70.0  \\\n",
       "0                 0.557224            0.001053  ...                      0   \n",
       "1                 0.550204            0.001953  ...                      0   \n",
       "2                 0.564571            0.004132  ...                      0   \n",
       "3                 0.550857            0.001577  ...                      0   \n",
       "4                 0.553224            0.001626  ...                      0   \n",
       "...                    ...                 ...  ...                    ...   \n",
       "17863             0.570939            0.001284  ...                      0   \n",
       "17864             0.537878            0.006117  ...                      0   \n",
       "17865             0.551265            0.001319  ...                      0   \n",
       "17866             0.530449            0.003556  ...                      0   \n",
       "17867             0.528082            0.003637  ...                      0   \n",
       "\n",
       "       batch_frac_classification_Batch-Concurrent Frac  \\\n",
       "0                                                    0   \n",
       "1                                                    0   \n",
       "2                                                    0   \n",
       "3                                                    0   \n",
       "4                                                    0   \n",
       "...                                                ...   \n",
       "17863                                                0   \n",
       "17864                                                0   \n",
       "17865                                                0   \n",
       "17866                                                0   \n",
       "17867                                                0   \n",
       "\n",
       "       batch_frac_classification_Batch-Sequential Frac  \\\n",
       "0                                                    0   \n",
       "1                                                    0   \n",
       "2                                                    0   \n",
       "3                                                    0   \n",
       "4                                                    0   \n",
       "...                                                ...   \n",
       "17863                                                0   \n",
       "17864                                                0   \n",
       "17865                                                0   \n",
       "17866                                                0   \n",
       "17867                                                0   \n",
       "\n",
       "       batch_frac_classification_Non-Batch Frac  \\\n",
       "0                                             0   \n",
       "1                                             0   \n",
       "2                                             1   \n",
       "3                                             0   \n",
       "4                                             0   \n",
       "...                                         ...   \n",
       "17863                                         0   \n",
       "17864                                         1   \n",
       "17865                                         1   \n",
       "17866                                         1   \n",
       "17867                                         1   \n",
       "\n",
       "       batch_frac_classification_Unknown  \\\n",
       "0                                      1   \n",
       "1                                      1   \n",
       "2                                      0   \n",
       "3                                      1   \n",
       "4                                      1   \n",
       "...                                  ...   \n",
       "17863                                  1   \n",
       "17864                                  0   \n",
       "17865                                  0   \n",
       "17866                                  0   \n",
       "17867                                  0   \n",
       "\n",
       "       well_family_relationship_Infill Child Well  \\\n",
       "0                                               0   \n",
       "1                                               1   \n",
       "2                                               0   \n",
       "3                                               0   \n",
       "4                                               1   \n",
       "...                                           ...   \n",
       "17863                                           0   \n",
       "17864                                           0   \n",
       "17865                                           0   \n",
       "17866                                           0   \n",
       "17867                                           1   \n",
       "\n",
       "       well_family_relationship_Sibling Well  \\\n",
       "0                                          0   \n",
       "1                                          0   \n",
       "2                                          0   \n",
       "3                                          0   \n",
       "4                                          0   \n",
       "...                                      ...   \n",
       "17863                                      0   \n",
       "17864                                      1   \n",
       "17865                                      0   \n",
       "17866                                      0   \n",
       "17867                                      0   \n",
       "\n",
       "       well_family_relationship_Standalone Well  \\\n",
       "0                                             1   \n",
       "1                                             0   \n",
       "2                                             1   \n",
       "3                                             1   \n",
       "4                                             0   \n",
       "...                                         ...   \n",
       "17863                                         1   \n",
       "17864                                         0   \n",
       "17865                                         1   \n",
       "17866                                         1   \n",
       "17867                                         0   \n",
       "\n",
       "       well_family_relationship_Unknown  frac_type_Primary Frac  \n",
       "0                                     0                       1  \n",
       "1                                     0                       1  \n",
       "2                                     0                       1  \n",
       "3                                     0                       1  \n",
       "4                                     0                       1  \n",
       "...                                 ...                     ...  \n",
       "17863                                 0                       1  \n",
       "17864                                 0                       1  \n",
       "17865                                 0                       1  \n",
       "17866                                 0                       1  \n",
       "17867                                 0                       1  \n",
       "\n",
       "[17868 rows x 100 columns]>"
      ]
     },
     "execution_count": 125,
     "metadata": {},
     "output_type": "execute_result"
    }
   ],
   "source": [
    "df.head"
   ]
  },
  {
   "cell_type": "code",
   "execution_count": 126,
   "id": "c34de79b",
   "metadata": {},
   "outputs": [],
   "source": [
    "features = df.drop([\"OilPeakRate\"], axis=1)\n",
    "target = df['OilPeakRate']"
   ]
  },
  {
   "cell_type": "code",
   "execution_count": 127,
   "id": "9697dae6",
   "metadata": {},
   "outputs": [],
   "source": [
    "lr_range = np.logspace(-3, 0, 4)\n",
    "min_mse = float(\"inf\")\n",
    "best_lr = None"
   ]
  },
  {
   "cell_type": "code",
   "execution_count": null,
   "id": "5282120d",
   "metadata": {},
   "outputs": [],
   "source": [
    "for lr in lr_range:\n",
    "    X_train, X_test, y_train, y_test = train_test_split(features, target, test_size=0.2, random_state=91)\n",
    "    gb_model = GradientBoostingRegressor(n_estimators=100, learning_rate=lr, random_state=91)\n",
    "    gb_model.fit(X_train, y_train)\n",
    "    predictions = gb_model.predict(X_test)\n",
    "    mse =  mean_squared_error(y_test, predictions)\n",
    "    if (mse < min_mse):\n",
    "        min_mse = mse\n",
    "        best_lr = lr"
   ]
  },
  {
   "cell_type": "code",
   "execution_count": null,
   "id": "053614cf",
   "metadata": {},
   "outputs": [],
   "source": [
    "print(\"Best learning rate = \", best_lr, \"sqrt of MSE = \", math.sqrt(min_mse))"
   ]
  },
  {
   "cell_type": "code",
   "execution_count": null,
   "id": "b4bd37df",
   "metadata": {},
   "outputs": [],
   "source": [
    "mse = mean_squared_error(y_test, predictions)\n",
    "print(f'Sqrt of Mean Squared Error: {math.sqrt(mse)}')"
   ]
  },
  {
   "cell_type": "code",
   "execution_count": null,
   "id": "39608501",
   "metadata": {},
   "outputs": [],
   "source": [
    "plt.scatter(y_test, predictions)\n",
    "plt.xlabel('Actual OilPeakRate')\n",
    "plt.ylabel('Predicted OilPeakRate')\n",
    "plt.title('Actual vs. Predicted OilPeakRate')\n",
    "plt.show()"
   ]
  }
 ],
 "metadata": {
  "kernelspec": {
   "display_name": "Python 3 (ipykernel)",
   "language": "python",
   "name": "python3"
  },
  "language_info": {
   "codemirror_mode": {
    "name": "ipython",
    "version": 3
   },
   "file_extension": ".py",
   "mimetype": "text/x-python",
   "name": "python",
   "nbconvert_exporter": "python",
   "pygments_lexer": "ipython3",
   "version": "3.11.1"
  }
 },
 "nbformat": 4,
 "nbformat_minor": 5
}
